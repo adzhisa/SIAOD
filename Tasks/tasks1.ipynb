{
 "cells": [
  {
   "cell_type": "markdown",
   "metadata": {},
   "source": [
    "Массив A состоит из целых положительных чисел длин отрезков. Составьте из трех отрезков такой треугольник, чтобы его периметр был максимально возможным. Если невозможно составить треугольник с положительной площадью функция возвращает 0."
   ]
  },
  {
   "cell_type": "code",
   "execution_count": 3,
   "metadata": {},
   "outputs": [
    {
     "name": "stdout",
     "output_type": "stream",
     "text": [
      "[9, 5, 7, 5, 6, 4, 7, 9, 3, 9, 6, 6, 3, 6, 4, 3, 9, 7, 8, 4]\n",
      "27\n"
     ]
    }
   ],
   "source": [
    "import random\n",
    "def maxPerm(values: list[int]) -> int :\n",
    "    length = len(values)\n",
    "    if (length < 3 ) :\n",
    "        return 0\n",
    "    values.sort(reverse=True)\n",
    "    for i in range(length - 2):\n",
    "        seg1 = values[i]\n",
    "        seg2 = values[i+1]\n",
    "        seg3 = values[i+2]\n",
    "        if (seg2 + seg3 > seg1) :\n",
    "            return seg1 + seg2 + seg3\n",
    "        \n",
    "    return 0\n",
    "l = int(input())\n",
    "min_n = int(input())\n",
    "max_n = int(input())\n",
    "arr = [random.randint(min_n, max_n) for i in range(l)]\n",
    "print(arr)\n",
    "print(maxPerm(arr))"
   ]
  },
  {
   "cell_type": "markdown",
   "metadata": {},
   "source": [
    "Дан массив неотрицательных целых чисел nums. Расположите их в таком порядке, чтобы вместе они образовали максимально возможное число. Замечание: Результат может быть очень большим числом, поэтому представьте его как string, а не integer."
   ]
  },
  {
   "cell_type": "code",
   "execution_count": 18,
   "metadata": {},
   "outputs": [
    {
     "name": "stdout",
     "output_type": "stream",
     "text": [
      "[10, 10, 8, 8, 15]\n",
      "88511100\n"
     ]
    }
   ],
   "source": [
    "import random\n",
    "def maxNumb (values: list):\n",
    "    str_nums = [str(i) for i in values]\n",
    "    res=''\n",
    "    for i in range(len(str_nums)):\n",
    "        res = res + str_nums[i]\n",
    "    res = list(res)\n",
    "    res.sort(reverse=True)\n",
    "    return ''.join(res)\n",
    "l = int(input())\n",
    "min_n = int(input())\n",
    "max_n = int(input())\n",
    "nums = [random.randint(min_n, max_n) for i in range(l)]\n",
    "print(nums)\n",
    "print(maxNumb(nums))"
   ]
  },
  {
   "cell_type": "markdown",
   "metadata": {},
   "source": [
    "Дана матрица mat размером m * n, значения целочисленные. Напишите функцию, сортирующую каждую диагональ матрицы по возрастанию и возвращающую получившуюся матрицу. Не очень ясно, что в прямоугольной матрице является главной и побочной диагональю, а также не понятно, как мы можем отсортировать диагонали матриц, которые пересекаются на некотором элементе (в таком случае возможно, что для одной из диагоналей сортировка не отработает корректно)."
   ]
  },
  {
   "cell_type": "code",
   "execution_count": 7,
   "metadata": {},
   "outputs": [
    {
     "name": "stdout",
     "output_type": "stream",
     "text": [
      "   8  14   7\n",
      "   8   5   9\n",
      "  12   4   6\n",
      "  15   5  11\n",
      "  10   5  14\n",
      "\n",
      "   5  14   6\n",
      "   8   7   9\n",
      "  12   4   8\n",
      "  15   5  11\n",
      "  10   5  14\n"
     ]
    }
   ],
   "source": [
    "import random\n",
    "def pretty_matrix(matrix: list[list[int]]):\n",
    "    print('\\n'.join([''.join(['{:4}'.format(item) for item in row]) for row in matrix]))\n",
    "def sort_diagonal(matrix: list[list[int]]):\n",
    "    cols = len(matrix[0])\n",
    "    \n",
    "    for i in range(cols - 1):\n",
    "        for j in range(cols - i - 1):\n",
    "            # сортируем главную диагональ пузырьком\n",
    "            if matrix[j][j] > matrix[j + 1][j + 1]:\n",
    "                matrix[j][j], matrix[j + 1][j + 1] = matrix[j + 1][j + 1], matrix[j][j]\n",
    "                \n",
    "            # сортируем побочную диагональ пузырьком\n",
    "            curr_j = cols - j - 1\n",
    "            if matrix[j][curr_j] > matrix[j + 1][curr_j - 1]:\n",
    "                matrix[j][curr_j], matrix[j + 1][curr_j - 1] = matrix[j + 1][curr_j - 1], matrix[j][curr_j]\n",
    "    \n",
    "    return matrix\n",
    "\n",
    "\n",
    "x = int(input())\n",
    "y = int(input())\n",
    "min_n = int(input())\n",
    "max_n = int(input())\n",
    "mat = [[random.randint(min_n, max_n) for i in range(x)] for j in range(y)]\n",
    "pretty_matrix(mat)\n",
    "print()\n",
    "pretty_matrix(sort_diagonal (mat))"
   ]
  }
 ],
 "metadata": {
  "interpreter": {
   "hash": "8fd3ab4d9eb5bb9f555979f1e6cfe047d48c7f1c77858fd44833552c33ebae82"
  },
  "kernelspec": {
   "display_name": "Python 3 (ipykernel)",
   "language": "python",
   "name": "python3"
  },
  "language_info": {
   "codemirror_mode": {
    "name": "ipython",
    "version": 3
   },
   "file_extension": ".py",
   "mimetype": "text/x-python",
   "name": "python",
   "nbconvert_exporter": "python",
   "pygments_lexer": "ipython3",
   "version": "3.9.7"
  }
 },
 "nbformat": 4,
 "nbformat_minor": 2
}
